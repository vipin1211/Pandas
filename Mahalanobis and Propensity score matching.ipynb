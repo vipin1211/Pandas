{
 "cells": [
  {
   "cell_type": "markdown",
   "metadata": {},
   "source": [
    "# Here we are going to implement Mahalanobis distance and nearest neibhor matching algorithm "
   ]
  },
  {
   "cell_type": "markdown",
   "metadata": {},
   "source": [
    "## The main goal of this is to reduce the disimilarity between groups so that they can be used to perform statistical tests "
   ]
  },
  {
   "cell_type": "code",
   "execution_count": 33,
   "metadata": {},
   "outputs": [],
   "source": [
    "import numpy as np\n",
    "import pandas as pd\n",
    "import seaborn as sns\n",
    "from scipy import stats\n",
    "from sklearn import metrics\n",
    "import matplotlib.pyplot as plt\n",
    "from sklearn.utils import resample\n",
    "from scipy.spatial import distance\n",
    "from sklearn.preprocessing import Imputer\n",
    "from factor_analyzer import FactorAnalyzer\n",
    "from sklearn.preprocessing import StandardScaler\n",
    "from sklearn.linear_model import LinearRegression\n",
    "from statsmodels.regression.linear_model import OLS\n",
    "from sklearn.model_selection import train_test_split\n",
    "from sklearn.preprocessing import LabelEncoder, OneHotEncoder"
   ]
  },
  {
   "cell_type": "code",
   "execution_count": 34,
   "metadata": {},
   "outputs": [],
   "source": [
    "midatlantic = pd.read_csv('midatlantic_data.csv') "
   ]
  },
  {
   "cell_type": "code",
   "execution_count": 35,
   "metadata": {},
   "outputs": [],
   "source": [
    "midatlantic.index.names = ['sn']"
   ]
  },
  {
   "cell_type": "code",
   "execution_count": 36,
   "metadata": {},
   "outputs": [
    {
     "data": {
      "text/html": [
       "<div>\n",
       "<style scoped>\n",
       "    .dataframe tbody tr th:only-of-type {\n",
       "        vertical-align: middle;\n",
       "    }\n",
       "\n",
       "    .dataframe tbody tr th {\n",
       "        vertical-align: top;\n",
       "    }\n",
       "\n",
       "    .dataframe thead th {\n",
       "        text-align: right;\n",
       "    }\n",
       "</style>\n",
       "<table border=\"1\" class=\"dataframe\">\n",
       "  <thead>\n",
       "    <tr style=\"text-align: right;\">\n",
       "      <th></th>\n",
       "      <th>id</th>\n",
       "      <th>score09</th>\n",
       "      <th>treatm</th>\n",
       "      <th>pretest</th>\n",
       "      <th>gender</th>\n",
       "      <th>african</th>\n",
       "      <th>hispanic</th>\n",
       "      <th>lses</th>\n",
       "      <th>age</th>\n",
       "      <th>cr08</th>\n",
       "      <th>absent</th>\n",
       "      <th>zip</th>\n",
       "      <th>hhincome</th>\n",
       "      <th>psvalue</th>\n",
       "    </tr>\n",
       "    <tr>\n",
       "      <th>sn</th>\n",
       "      <th></th>\n",
       "      <th></th>\n",
       "      <th></th>\n",
       "      <th></th>\n",
       "      <th></th>\n",
       "      <th></th>\n",
       "      <th></th>\n",
       "      <th></th>\n",
       "      <th></th>\n",
       "      <th></th>\n",
       "      <th></th>\n",
       "      <th></th>\n",
       "      <th></th>\n",
       "      <th></th>\n",
       "    </tr>\n",
       "  </thead>\n",
       "  <tbody>\n",
       "    <tr>\n",
       "      <th>0</th>\n",
       "      <td>1279</td>\n",
       "      <td>-0.922322</td>\n",
       "      <td>0</td>\n",
       "      <td>0.370557</td>\n",
       "      <td>1</td>\n",
       "      <td>1</td>\n",
       "      <td>0</td>\n",
       "      <td>0</td>\n",
       "      <td>206</td>\n",
       "      <td>8</td>\n",
       "      <td>6</td>\n",
       "      <td>34319</td>\n",
       "      <td>46346.71964</td>\n",
       "      <td>0.027860</td>\n",
       "    </tr>\n",
       "    <tr>\n",
       "      <th>1</th>\n",
       "      <td>1863</td>\n",
       "      <td>-0.817309</td>\n",
       "      <td>0</td>\n",
       "      <td>1.051151</td>\n",
       "      <td>1</td>\n",
       "      <td>1</td>\n",
       "      <td>0</td>\n",
       "      <td>0</td>\n",
       "      <td>217</td>\n",
       "      <td>18</td>\n",
       "      <td>3</td>\n",
       "      <td>35479</td>\n",
       "      <td>59441.81508</td>\n",
       "      <td>0.015745</td>\n",
       "    </tr>\n",
       "    <tr>\n",
       "      <th>2</th>\n",
       "      <td>2224</td>\n",
       "      <td>0.521059</td>\n",
       "      <td>1</td>\n",
       "      <td>0.475264</td>\n",
       "      <td>0</td>\n",
       "      <td>0</td>\n",
       "      <td>0</td>\n",
       "      <td>1</td>\n",
       "      <td>227</td>\n",
       "      <td>22</td>\n",
       "      <td>3</td>\n",
       "      <td>35138</td>\n",
       "      <td>55866.77751</td>\n",
       "      <td>0.020323</td>\n",
       "    </tr>\n",
       "    <tr>\n",
       "      <th>3</th>\n",
       "      <td>1582</td>\n",
       "      <td>-1.311136</td>\n",
       "      <td>1</td>\n",
       "      <td>0.265850</td>\n",
       "      <td>1</td>\n",
       "      <td>0</td>\n",
       "      <td>1</td>\n",
       "      <td>0</td>\n",
       "      <td>236</td>\n",
       "      <td>19</td>\n",
       "      <td>30</td>\n",
       "      <td>34977</td>\n",
       "      <td>54593.37630</td>\n",
       "      <td>0.103497</td>\n",
       "    </tr>\n",
       "    <tr>\n",
       "      <th>4</th>\n",
       "      <td>1311</td>\n",
       "      <td>-0.190179</td>\n",
       "      <td>1</td>\n",
       "      <td>0.108790</td>\n",
       "      <td>1</td>\n",
       "      <td>0</td>\n",
       "      <td>0</td>\n",
       "      <td>1</td>\n",
       "      <td>195</td>\n",
       "      <td>2</td>\n",
       "      <td>45</td>\n",
       "      <td>35832</td>\n",
       "      <td>32160.75429</td>\n",
       "      <td>0.032780</td>\n",
       "    </tr>\n",
       "  </tbody>\n",
       "</table>\n",
       "</div>"
      ],
      "text/plain": [
       "      id   score09  treatm   pretest  gender  african  hispanic  lses  age  \\\n",
       "sn                                                                           \n",
       "0   1279 -0.922322       0  0.370557       1        1         0     0  206   \n",
       "1   1863 -0.817309       0  1.051151       1        1         0     0  217   \n",
       "2   2224  0.521059       1  0.475264       0        0         0     1  227   \n",
       "3   1582 -1.311136       1  0.265850       1        0         1     0  236   \n",
       "4   1311 -0.190179       1  0.108790       1        0         0     1  195   \n",
       "\n",
       "    cr08  absent    zip     hhincome   psvalue  \n",
       "sn                                              \n",
       "0      8       6  34319  46346.71964  0.027860  \n",
       "1     18       3  35479  59441.81508  0.015745  \n",
       "2     22       3  35138  55866.77751  0.020323  \n",
       "3     19      30  34977  54593.37630  0.103497  \n",
       "4      2      45  35832  32160.75429  0.032780  "
      ]
     },
     "execution_count": 36,
     "metadata": {},
     "output_type": "execute_result"
    }
   ],
   "source": [
    "midatlantic.head()"
   ]
  },
  {
   "cell_type": "code",
   "execution_count": 37,
   "metadata": {},
   "outputs": [],
   "source": [
    "ids=[int(i) for i in range(len(midatlantic))]"
   ]
  },
  {
   "cell_type": "code",
   "execution_count": 38,
   "metadata": {},
   "outputs": [],
   "source": [
    "midatlantic=midatlantic.assign(ID=ids)"
   ]
  },
  {
   "cell_type": "markdown",
   "metadata": {},
   "source": [
    "### Time to seperate the control and treatment groups"
   ]
  },
  {
   "cell_type": "code",
   "execution_count": 39,
   "metadata": {},
   "outputs": [],
   "source": [
    "control_data=midatlantic.query('treatm==0')"
   ]
  },
  {
   "cell_type": "code",
   "execution_count": 40,
   "metadata": {},
   "outputs": [
    {
     "data": {
      "text/html": [
       "<div>\n",
       "<style scoped>\n",
       "    .dataframe tbody tr th:only-of-type {\n",
       "        vertical-align: middle;\n",
       "    }\n",
       "\n",
       "    .dataframe tbody tr th {\n",
       "        vertical-align: top;\n",
       "    }\n",
       "\n",
       "    .dataframe thead th {\n",
       "        text-align: right;\n",
       "    }\n",
       "</style>\n",
       "<table border=\"1\" class=\"dataframe\">\n",
       "  <thead>\n",
       "    <tr style=\"text-align: right;\">\n",
       "      <th></th>\n",
       "      <th>id</th>\n",
       "      <th>score09</th>\n",
       "      <th>treatm</th>\n",
       "      <th>pretest</th>\n",
       "      <th>gender</th>\n",
       "      <th>african</th>\n",
       "      <th>hispanic</th>\n",
       "      <th>lses</th>\n",
       "      <th>age</th>\n",
       "      <th>cr08</th>\n",
       "      <th>absent</th>\n",
       "      <th>zip</th>\n",
       "      <th>hhincome</th>\n",
       "      <th>psvalue</th>\n",
       "      <th>ID</th>\n",
       "    </tr>\n",
       "    <tr>\n",
       "      <th>sn</th>\n",
       "      <th></th>\n",
       "      <th></th>\n",
       "      <th></th>\n",
       "      <th></th>\n",
       "      <th></th>\n",
       "      <th></th>\n",
       "      <th></th>\n",
       "      <th></th>\n",
       "      <th></th>\n",
       "      <th></th>\n",
       "      <th></th>\n",
       "      <th></th>\n",
       "      <th></th>\n",
       "      <th></th>\n",
       "      <th></th>\n",
       "    </tr>\n",
       "  </thead>\n",
       "  <tbody>\n",
       "    <tr>\n",
       "      <th>0</th>\n",
       "      <td>1279</td>\n",
       "      <td>-0.922322</td>\n",
       "      <td>0</td>\n",
       "      <td>0.370557</td>\n",
       "      <td>1</td>\n",
       "      <td>1</td>\n",
       "      <td>0</td>\n",
       "      <td>0</td>\n",
       "      <td>206</td>\n",
       "      <td>8</td>\n",
       "      <td>6</td>\n",
       "      <td>34319</td>\n",
       "      <td>46346.71964</td>\n",
       "      <td>0.027860</td>\n",
       "      <td>0</td>\n",
       "    </tr>\n",
       "    <tr>\n",
       "      <th>1</th>\n",
       "      <td>1863</td>\n",
       "      <td>-0.817309</td>\n",
       "      <td>0</td>\n",
       "      <td>1.051151</td>\n",
       "      <td>1</td>\n",
       "      <td>1</td>\n",
       "      <td>0</td>\n",
       "      <td>0</td>\n",
       "      <td>217</td>\n",
       "      <td>18</td>\n",
       "      <td>3</td>\n",
       "      <td>35479</td>\n",
       "      <td>59441.81508</td>\n",
       "      <td>0.015745</td>\n",
       "      <td>1</td>\n",
       "    </tr>\n",
       "    <tr>\n",
       "      <th>21</th>\n",
       "      <td>2465</td>\n",
       "      <td>0.960957</td>\n",
       "      <td>0</td>\n",
       "      <td>1.784098</td>\n",
       "      <td>0</td>\n",
       "      <td>1</td>\n",
       "      <td>0</td>\n",
       "      <td>0</td>\n",
       "      <td>222</td>\n",
       "      <td>21</td>\n",
       "      <td>18</td>\n",
       "      <td>34178</td>\n",
       "      <td>46795.86750</td>\n",
       "      <td>0.032315</td>\n",
       "      <td>21</td>\n",
       "    </tr>\n",
       "    <tr>\n",
       "      <th>22</th>\n",
       "      <td>1451</td>\n",
       "      <td>0.968113</td>\n",
       "      <td>0</td>\n",
       "      <td>1.208211</td>\n",
       "      <td>0</td>\n",
       "      <td>0</td>\n",
       "      <td>0</td>\n",
       "      <td>0</td>\n",
       "      <td>217</td>\n",
       "      <td>20</td>\n",
       "      <td>18</td>\n",
       "      <td>34448</td>\n",
       "      <td>82750.74299</td>\n",
       "      <td>0.013308</td>\n",
       "      <td>22</td>\n",
       "    </tr>\n",
       "    <tr>\n",
       "      <th>23</th>\n",
       "      <td>1443</td>\n",
       "      <td>-1.111734</td>\n",
       "      <td>0</td>\n",
       "      <td>0.056437</td>\n",
       "      <td>0</td>\n",
       "      <td>0</td>\n",
       "      <td>0</td>\n",
       "      <td>1</td>\n",
       "      <td>209</td>\n",
       "      <td>12</td>\n",
       "      <td>20</td>\n",
       "      <td>34513</td>\n",
       "      <td>56004.77955</td>\n",
       "      <td>0.023900</td>\n",
       "      <td>23</td>\n",
       "    </tr>\n",
       "  </tbody>\n",
       "</table>\n",
       "</div>"
      ],
      "text/plain": [
       "      id   score09  treatm   pretest  gender  african  hispanic  lses  age  \\\n",
       "sn                                                                           \n",
       "0   1279 -0.922322       0  0.370557       1        1         0     0  206   \n",
       "1   1863 -0.817309       0  1.051151       1        1         0     0  217   \n",
       "21  2465  0.960957       0  1.784098       0        1         0     0  222   \n",
       "22  1451  0.968113       0  1.208211       0        0         0     0  217   \n",
       "23  1443 -1.111734       0  0.056437       0        0         0     1  209   \n",
       "\n",
       "    cr08  absent    zip     hhincome   psvalue  ID  \n",
       "sn                                                  \n",
       "0      8       6  34319  46346.71964  0.027860   0  \n",
       "1     18       3  35479  59441.81508  0.015745   1  \n",
       "21    21      18  34178  46795.86750  0.032315  21  \n",
       "22    20      18  34448  82750.74299  0.013308  22  \n",
       "23    12      20  34513  56004.77955  0.023900  23  "
      ]
     },
     "execution_count": 40,
     "metadata": {},
     "output_type": "execute_result"
    }
   ],
   "source": [
    "control_data.head()"
   ]
  },
  {
   "cell_type": "code",
   "execution_count": 41,
   "metadata": {},
   "outputs": [],
   "source": [
    "treatment_data=midatlantic.query('treatm==1')"
   ]
  },
  {
   "cell_type": "code",
   "execution_count": 42,
   "metadata": {},
   "outputs": [
    {
     "data": {
      "text/html": [
       "<div>\n",
       "<style scoped>\n",
       "    .dataframe tbody tr th:only-of-type {\n",
       "        vertical-align: middle;\n",
       "    }\n",
       "\n",
       "    .dataframe tbody tr th {\n",
       "        vertical-align: top;\n",
       "    }\n",
       "\n",
       "    .dataframe thead th {\n",
       "        text-align: right;\n",
       "    }\n",
       "</style>\n",
       "<table border=\"1\" class=\"dataframe\">\n",
       "  <thead>\n",
       "    <tr style=\"text-align: right;\">\n",
       "      <th></th>\n",
       "      <th>id</th>\n",
       "      <th>score09</th>\n",
       "      <th>treatm</th>\n",
       "      <th>pretest</th>\n",
       "      <th>gender</th>\n",
       "      <th>african</th>\n",
       "      <th>hispanic</th>\n",
       "      <th>lses</th>\n",
       "      <th>age</th>\n",
       "      <th>cr08</th>\n",
       "      <th>absent</th>\n",
       "      <th>zip</th>\n",
       "      <th>hhincome</th>\n",
       "      <th>psvalue</th>\n",
       "      <th>ID</th>\n",
       "    </tr>\n",
       "    <tr>\n",
       "      <th>sn</th>\n",
       "      <th></th>\n",
       "      <th></th>\n",
       "      <th></th>\n",
       "      <th></th>\n",
       "      <th></th>\n",
       "      <th></th>\n",
       "      <th></th>\n",
       "      <th></th>\n",
       "      <th></th>\n",
       "      <th></th>\n",
       "      <th></th>\n",
       "      <th></th>\n",
       "      <th></th>\n",
       "      <th></th>\n",
       "      <th></th>\n",
       "    </tr>\n",
       "  </thead>\n",
       "  <tbody>\n",
       "    <tr>\n",
       "      <th>2</th>\n",
       "      <td>2224</td>\n",
       "      <td>0.521059</td>\n",
       "      <td>1</td>\n",
       "      <td>0.475264</td>\n",
       "      <td>0</td>\n",
       "      <td>0</td>\n",
       "      <td>0</td>\n",
       "      <td>1</td>\n",
       "      <td>227</td>\n",
       "      <td>22</td>\n",
       "      <td>3</td>\n",
       "      <td>35138</td>\n",
       "      <td>55866.77751</td>\n",
       "      <td>0.020323</td>\n",
       "      <td>2</td>\n",
       "    </tr>\n",
       "    <tr>\n",
       "      <th>3</th>\n",
       "      <td>1582</td>\n",
       "      <td>-1.311136</td>\n",
       "      <td>1</td>\n",
       "      <td>0.265850</td>\n",
       "      <td>1</td>\n",
       "      <td>0</td>\n",
       "      <td>1</td>\n",
       "      <td>0</td>\n",
       "      <td>236</td>\n",
       "      <td>19</td>\n",
       "      <td>30</td>\n",
       "      <td>34977</td>\n",
       "      <td>54593.37630</td>\n",
       "      <td>0.103497</td>\n",
       "      <td>3</td>\n",
       "    </tr>\n",
       "    <tr>\n",
       "      <th>4</th>\n",
       "      <td>1311</td>\n",
       "      <td>-0.190179</td>\n",
       "      <td>1</td>\n",
       "      <td>0.108790</td>\n",
       "      <td>1</td>\n",
       "      <td>0</td>\n",
       "      <td>0</td>\n",
       "      <td>1</td>\n",
       "      <td>195</td>\n",
       "      <td>2</td>\n",
       "      <td>45</td>\n",
       "      <td>35832</td>\n",
       "      <td>32160.75429</td>\n",
       "      <td>0.032780</td>\n",
       "      <td>4</td>\n",
       "    </tr>\n",
       "    <tr>\n",
       "      <th>5</th>\n",
       "      <td>2399</td>\n",
       "      <td>0.987368</td>\n",
       "      <td>1</td>\n",
       "      <td>0.632324</td>\n",
       "      <td>0</td>\n",
       "      <td>1</td>\n",
       "      <td>0</td>\n",
       "      <td>0</td>\n",
       "      <td>228</td>\n",
       "      <td>16</td>\n",
       "      <td>45</td>\n",
       "      <td>35082</td>\n",
       "      <td>33494.13883</td>\n",
       "      <td>0.169613</td>\n",
       "      <td>5</td>\n",
       "    </tr>\n",
       "    <tr>\n",
       "      <th>6</th>\n",
       "      <td>1693</td>\n",
       "      <td>-0.245387</td>\n",
       "      <td>1</td>\n",
       "      <td>0.108790</td>\n",
       "      <td>1</td>\n",
       "      <td>1</td>\n",
       "      <td>0</td>\n",
       "      <td>0</td>\n",
       "      <td>212</td>\n",
       "      <td>18</td>\n",
       "      <td>6</td>\n",
       "      <td>34923</td>\n",
       "      <td>55240.74165</td>\n",
       "      <td>0.013605</td>\n",
       "      <td>6</td>\n",
       "    </tr>\n",
       "  </tbody>\n",
       "</table>\n",
       "</div>"
      ],
      "text/plain": [
       "      id   score09  treatm   pretest  gender  african  hispanic  lses  age  \\\n",
       "sn                                                                           \n",
       "2   2224  0.521059       1  0.475264       0        0         0     1  227   \n",
       "3   1582 -1.311136       1  0.265850       1        0         1     0  236   \n",
       "4   1311 -0.190179       1  0.108790       1        0         0     1  195   \n",
       "5   2399  0.987368       1  0.632324       0        1         0     0  228   \n",
       "6   1693 -0.245387       1  0.108790       1        1         0     0  212   \n",
       "\n",
       "    cr08  absent    zip     hhincome   psvalue  ID  \n",
       "sn                                                  \n",
       "2     22       3  35138  55866.77751  0.020323   2  \n",
       "3     19      30  34977  54593.37630  0.103497   3  \n",
       "4      2      45  35832  32160.75429  0.032780   4  \n",
       "5     16      45  35082  33494.13883  0.169613   5  \n",
       "6     18       6  34923  55240.74165  0.013605   6  "
      ]
     },
     "execution_count": 42,
     "metadata": {},
     "output_type": "execute_result"
    }
   ],
   "source": [
    "treatment_data.head()"
   ]
  },
  {
   "cell_type": "code",
   "execution_count": 43,
   "metadata": {},
   "outputs": [
    {
     "data": {
      "image/png": "[encoded data removed]",
      "text/plain": [
       "<Figure size 1008x432 with 1 Axes>"
      ]
     },
     "metadata": {
      "needs_background": "light"
     },
     "output_type": "display_data"
    }
   ],
   "source": [
    "midatlantic.boxplot(\"score09\", by=\"treatm\", figsize = (14, 6)) \n",
    "plt.show()"
   ]
  },
  {
   "cell_type": "code",
   "execution_count": 44,
   "metadata": {},
   "outputs": [
    {
     "data": {
      "image/png": "[encoded data removed]",
      "text/plain": [
       "<Figure size 432x288 with 1 Axes>"
      ]
     },
     "metadata": {
      "needs_background": "light"
     },
     "output_type": "display_data"
    }
   ],
   "source": [
    "plt.hist(control_data['score09'], bins = 10) \n",
    "plt.title(\"Histogram of scores for control group\") \n",
    "plt.xlabel(\"Scores\") \n",
    "plt.ylabel(\"Frequency\") \n",
    "plt.show();"
   ]
  },
  {
   "cell_type": "code",
   "execution_count": 45,
   "metadata": {},
   "outputs": [
    {
     "data": {
      "image/png": "[encoded data removed]",
      "text/plain": [
       "<Figure size 432x288 with 1 Axes>"
      ]
     },
     "metadata": {
      "needs_background": "light"
     },
     "output_type": "display_data"
    }
   ],
   "source": [
    "plt.hist(treatment_data['score09'], bins = 10) \n",
    "plt.title(\"Histogram of scores for control group\") \n",
    "plt.xlabel(\"Scores\") \n",
    "plt.ylabel(\"Frequency\") \n",
    "plt.show();"
   ]
  },
  {
   "cell_type": "markdown",
   "metadata": {},
   "source": [
    "### Performing a T-test to check the means of scores of the treatment and control groups"
   ]
  },
  {
   "cell_type": "code",
   "execution_count": 46,
   "metadata": {},
   "outputs": [
    {
     "name": "stdout",
     "output_type": "stream",
     "text": [
      "T Test: This is a hypothesis test for the means of scores of control and treatment data\n",
      "H0: Means of scores of control and treatment data are equal\n",
      "test statistics (t): 2.569128632462248\n",
      "pvalue: 0.010270339156361484\n",
      "Decision: Reject the null hypothesis\n",
      "Conclusion: Means of scores of control and treatment data are unequal\n"
     ]
    }
   ],
   "source": [
    "teststats_Mean, pvalue_Mean= stats.ttest_ind(control_data['score09'], treatment_data['score09'], equal_var=True)\n",
    "print(\"T Test: This is a hypothesis test for the means of scores of control and treatment data\") \n",
    "print(\"H0: Means of scores of control and treatment data are equal\") \n",
    "print (f\"test statistics (t): {teststats_Mean}\") \n",
    "print(f\"pvalue: {pvalue_Mean}\")\n",
    "\n",
    "alpha = 0.05 \n",
    "if pvalue_Mean > alpha:    \n",
    "    print(\"Decision: Fail to reject the null hypothesis\")    \n",
    "    print(\"Conclusion: Means of scores of control and treatment data are equal\") \n",
    "else:    \n",
    "    print(\"Decision: Reject the null hypothesis\")    \n",
    "    print(\"Conclusion: Means of scores of control and treatment data are unequal\")\n"
   ]
  },
  {
   "cell_type": "markdown",
   "metadata": {},
   "source": [
    "## The Mahalanobis distance can be defined as:\n",
    "   d(i,j) = $$((\\vec{u} - \\vec{v})^T {\\rm \\bf C}^{-1} (\\vec{u} - \\vec{v}) )$$\n",
    "\n",
    "Where:\\\n",
    "i= individual from the treatment group\n",
    "\n",
    "j= individual from the control group \n",
    "\n",
    "u= a vector of values of the matching variables for participant i in the treatment group.\n",
    "\n",
    "v= a vector of values of the matching variables for participant j in the control group. \n",
    "\n",
    "C= the sample covariance matrix of the matching variables from the full set of individuals in the control group. \n"
   ]
  },
  {
   "cell_type": "code",
   "execution_count": 47,
   "metadata": {},
   "outputs": [],
   "source": [
    "control_data_cov=control_data.iloc[:,3:13]"
   ]
  },
  {
   "cell_type": "code",
   "execution_count": 48,
   "metadata": {},
   "outputs": [],
   "source": [
    "#Calculating the covariance matrix\n",
    "C=control_data_cov.cov()"
   ]
  },
  {
   "cell_type": "code",
   "execution_count": 49,
   "metadata": {},
   "outputs": [],
   "source": [
    "C=np.array(C)"
   ]
  },
  {
   "cell_type": "code",
   "execution_count": 50,
   "metadata": {},
   "outputs": [],
   "source": [
    "#Obtaining the inverse of the covariance matrix\n",
    "C_inv=np.linalg.inv(C)"
   ]
  },
  {
   "cell_type": "code",
   "execution_count": 51,
   "metadata": {},
   "outputs": [],
   "source": [
    "treatment_data_cov=treatment_data.iloc[:,3:13]"
   ]
  },
  {
   "cell_type": "code",
   "execution_count": 52,
   "metadata": {},
   "outputs": [],
   "source": [
    "np.random.seed(2020)\n",
    "randomized_cov = treatment_data_cov.sample(n=len(treatment_data_cov))\n",
    "np.random.seed(2020)\n",
    "randomized = treatment_data.sample(n=len(treatment_data))"
   ]
  },
  {
   "cell_type": "markdown",
   "metadata": {},
   "source": [
    " ## The Mahalanobis algorithm should be implemented as follows:\n",
    " \n",
    " #### 1) 1)\tRandomly order or shuffle the treatment_data or treatment group (set a NumPy random seed to the number 2020). \n",
    " \n",
    "#### 2)\t\tCalculate the Mahalanobis distance between the first individual i from the treatment group and each individual j in the\n",
    "####          control group based on all the matching variables;\n",
    "\n",
    "#### 3)\t   Choose the individual j in the control group with the minimum distance d(i,\\ j) as a match for the individual i in the\n",
    "####         treatment group\n",
    "\n",
    "#### 4)  \tConsidering that matching is done without replacement, remove both individual i\\ and\\ j from the pool or data, and\n",
    "####          store the matched pair (or indexes of the matched individuals). \n",
    "\n",
    "\n",
    "#### 5)  \t\tRepeat the above steps until matches are found for all individuals in the treatment group (Note, you can use the\n",
    "####            indexes of the DataFrame to represent individual i in the treatment group and j\\ in the control group) \n"
   ]
  },
  {
   "cell_type": "code",
   "execution_count": 53,
   "metadata": {},
   "outputs": [
    {
     "name": "stderr",
     "output_type": "stream",
     "text": [
      "C:\\Users\\18482\\Anaconda3\\lib\\site-packages\\pandas\\core\\frame.py:3997: SettingWithCopyWarning: \n",
      "A value is trying to be set on a copy of a slice from a DataFrame\n",
      "\n",
      "See the caveats in the documentation: https://pandas.pydata.org/pandas-docs/stable/user_guide/indexing.html#returning-a-view-versus-a-copy\n",
      "  errors=errors,\n"
     ]
    }
   ],
   "source": [
    "# Mahalanobis algorithm\n",
    "\n",
    "randomized_mahal=randomized_cov.copy()\n",
    "control_data_mahal=control_data_cov.copy()\n",
    "ind_pairs_mahals=[]\n",
    "while len(randomized_mahal)>0:\n",
    "    mahals=[]\n",
    "    for i in range(len(control_data_mahal)):\n",
    "        u = randomized_mahal.iloc[0,:].values\n",
    "        v = control_data_mahal.iloc[i,:].values\n",
    "        dist=distance.mahalanobis(u,v, C_inv)\n",
    "        dist=dist**2\n",
    "        mahals.append(dist)\n",
    "    c_ind=np.argmin(mahals)\n",
    "    c=control_data.iloc[c_ind,:].ID\n",
    "    t=randomized.iloc[0,:].ID\n",
    "    ind_pairs_mahals.append([int(c),int(t)])\n",
    "    randomized_mahal.drop(randomized_mahal.index[0],inplace=True)\n",
    "    randomized.drop(randomized.index[0],inplace=True)\n",
    "    control_data_mahal.drop(control_data_mahal.index[c_ind],inplace=True)\n",
    "    control_data.drop(control_data.index[c_ind],inplace=True)\n",
    "    np.random.seed(2020)\n",
    "    randomized_mahal = randomized_mahal.sample(n=len(randomized_mahal))\n",
    "    np.random.seed(2020)\n",
    "    randomized = randomized.sample(n=len(randomized))"
   ]
  },
  {
   "cell_type": "markdown",
   "metadata": {},
   "source": [
    "### Now we need to obtain the corresponding treatment and control group rows"
   ]
  },
  {
   "cell_type": "code",
   "execution_count": 54,
   "metadata": {},
   "outputs": [],
   "source": [
    "matched_tgroup=pd.DataFrame(columns = midatlantic.columns.values)\n",
    "for i,j in ind_pairs_mahals:\n",
    "    a=midatlantic.loc[midatlantic['ID'] == j].values\n",
    "    matched_tgroup=matched_tgroup.append(pd.DataFrame(a.tolist(),columns = midatlantic.columns.values),ignore_index = True)"
   ]
  },
  {
   "cell_type": "code",
   "execution_count": 55,
   "metadata": {},
   "outputs": [],
   "source": [
    "matched_cgroup=pd.DataFrame(columns = midatlantic.columns.values)\n",
    "for i,j in ind_pairs_mahals:\n",
    "    a=midatlantic.loc[midatlantic['ID'] == i].values\n",
    "    matched_cgroup=matched_cgroup.append(pd.DataFrame(a.tolist(),columns = midatlantic.columns.values),ignore_index = True)"
   ]
  },
  {
   "cell_type": "markdown",
   "metadata": {},
   "source": [
    "### Now let us redo the T test to check if our groups have equal means"
   ]
  },
  {
   "cell_type": "code",
   "execution_count": 56,
   "metadata": {},
   "outputs": [
    {
     "name": "stdout",
     "output_type": "stream",
     "text": [
      "T Test: This is a hypothesis test for the means of scores of control and treatment data\n",
      "H0: Means of scores of control and treatment data are equal\n",
      "test statistics (t): 0.23520460524452758\n",
      "pvalue: 0.8142003742245206\n",
      "Decision: Fail to reject the null hypothesis\n",
      "Conclusion: Means of scores of control and treatment data are equal\n"
     ]
    }
   ],
   "source": [
    "teststats_Mean, pvalue_Mean= stats.ttest_ind(matched_tgroup['score09'],matched_cgroup['score09'], equal_var=True)\n",
    "print(\"T Test: This is a hypothesis test for the means of scores of control and treatment data\") \n",
    "print(\"H0: Means of scores of control and treatment data are equal\") \n",
    "print (f\"test statistics (t): {teststats_Mean}\") \n",
    "print(f\"pvalue: {pvalue_Mean}\")\n",
    "\n",
    "alpha = 0.05 \n",
    "if pvalue_Mean > alpha:    \n",
    "    print(\"Decision: Fail to reject the null hypothesis\")    \n",
    "    print(\"Conclusion: Means of scores of control and treatment data are equal\") \n",
    "else:    \n",
    "    print(\"Decision: Reject the null hypothesis\")    \n",
    "    print(\"Conclusion: Means of scores of control and treatment data are unequal\")"
   ]
  },
  {
   "cell_type": "markdown",
   "metadata": {},
   "source": [
    "## nearest neighbor matching algorithm can be defined as  the algorithm finds the minimum absolute propensity score difference: min || Pi - Pj || \n",
    "\n"
   ]
  },
  {
   "cell_type": "code",
   "execution_count": 57,
   "metadata": {},
   "outputs": [],
   "source": [
    "control_data=midatlantic.query('treatm==0')\n",
    "control_data_cov=control_data.iloc[:,3:]\n",
    "treatment_data_cov=treatment_data.iloc[:,3:]\n",
    "np.random.seed(2020)\n",
    "randomized_cov = treatment_data_cov.sample(n=len(treatment_data_cov))\n",
    "np.random.seed(2020)\n",
    "randomized = treatment_data.sample(n=len(treatment_data))"
   ]
  },
  {
   "cell_type": "markdown",
   "metadata": {},
   "source": [
    " ## The nearest neighbor matching algorithm should be implemented as follows:\n",
    " \n",
    " #### 1) Randomly order the individuals in the treatment group (treatement_data).\n",
    " \n",
    "#### 2)\tSelect the first individual i in the treatment group and find the individual j  in the control group\n",
    "####        (control_data) with the closest propensity score (psvalue). That means,  an individual j is  matched to \n",
    "####          individual i  if the absolute difference between their propensity scores is the smallest. So, the algorithm finds\n",
    "####          the minimum absolute propensity score difference: minjPi-Pj. \n",
    "\n",
    "#### 3)\tMatching is without replacement so, remove i and j from the pools or groups. \n",
    "\n",
    "#### 4)Repeat the above process until matches are found for all participants in the treatment group\n"
   ]
  },
  {
   "cell_type": "code",
   "execution_count": 58,
   "metadata": {},
   "outputs": [],
   "source": [
    "## Propensity score matching algorithm.\n",
    "\n",
    "randomized_prop=randomized_cov.copy()\n",
    "control_data_prop=control_data_cov.copy()\n",
    "ind_pairs_props=[]\n",
    "while len(randomized_prop)>0:\n",
    "    props=[]\n",
    "    for i in range(len(control_data_prop)):\n",
    "        u = randomized_prop.iloc[0,:].psvalue\n",
    "        v = control_data_prop.iloc[i,:].psvalue\n",
    "        dist=abs(u-v)\n",
    "        props.append(dist)\n",
    "    c_ind=np.argmin(props)\n",
    "    c=control_data.iloc[c_ind,:].ID\n",
    "    t=randomized.iloc[0,:].ID\n",
    "    ind_pairs_props.append([int(c),int(t)])\n",
    "    randomized_prop.drop(randomized_prop.index[0],inplace=True)\n",
    "    randomized.drop(randomized.index[0],inplace=True)\n",
    "    control_data_prop.drop(control_data_prop.index[c_ind],inplace=True)\n",
    "    control_data.drop(control_data.index[c_ind],inplace=True)\n",
    "    np.random.seed(2020)\n",
    "    randomized_prop = randomized_prop.sample(n=len(randomized_prop))\n",
    "    np.random.seed(2020)\n",
    "    randomized = randomized.sample(n=len(randomized))"
   ]
  },
  {
   "cell_type": "code",
   "execution_count": 60,
   "metadata": {},
   "outputs": [],
   "source": [
    "matched_tgroup2=pd.DataFrame(columns = midatlantic.columns.values)\n",
    "for i,j in ind_pairs_props:\n",
    "    a=midatlantic.loc[midatlantic['ID'] == j].values\n",
    "    matched_tgroup2=matched_tgroup2.append(pd.DataFrame(a.tolist(),columns = midatlantic.columns.values),ignore_index = True)"
   ]
  },
  {
   "cell_type": "code",
   "execution_count": 61,
   "metadata": {},
   "outputs": [],
   "source": [
    "matched_cgroup2=pd.DataFrame(columns = midatlantic.columns.values)\n",
    "for i,j in ind_pairs_props:\n",
    "    a=midatlantic.loc[midatlantic['ID'] == i].values\n",
    "    matched_cgroup2=matched_cgroup2.append(pd.DataFrame(a.tolist(),columns = midatlantic.columns.values),ignore_index = True)"
   ]
  },
  {
   "cell_type": "code",
   "execution_count": 62,
   "metadata": {},
   "outputs": [
    {
     "name": "stdout",
     "output_type": "stream",
     "text": [
      "T Test: This is a hypothesis test for the means of scores of control and treatment data\n",
      "H0: Means of scores of control and treatment data are equal\n",
      "test statistics (t): 1.1173767901196623\n",
      "pvalue: 0.26467146553578\n",
      "Decision: Fail to reject the null hypothesis\n",
      "Conclusion: Means of scores of control and treatment data are equal\n"
     ]
    }
   ],
   "source": [
    "teststats_Mean, pvalue_Mean= stats.ttest_ind(matched_cgroup2['score09'], matched_tgroup2['score09'], equal_var=True)\n",
    "print(\"T Test: This is a hypothesis test for the means of scores of control and treatment data\") \n",
    "print(\"H0: Means of scores of control and treatment data are equal\") \n",
    "print (f\"test statistics (t): {teststats_Mean}\") \n",
    "print(f\"pvalue: {pvalue_Mean}\")\n",
    "\n",
    "alpha = 0.05 \n",
    "if pvalue_Mean > alpha:    \n",
    "    print(\"Decision: Fail to reject the null hypothesis\")    \n",
    "    print(\"Conclusion: Means of scores of control and treatment data are equal\") \n",
    "else:    \n",
    "    print(\"Decision: Reject the null hypothesis\")    \n",
    "    print(\"Conclusion: Means of scores of control and treatment data are unequal\")"
   ]
  },
  {
   "cell_type": "markdown",
   "metadata": {},
   "source": [
    "## We have successfully made the population means similar using two different techniques which can now be used for further analysis. "
   ]
  }
 ],
 "metadata": {
  "kernelspec": {
   "display_name": "Python 3",
   "language": "python",
   "name": "python3"
  },
  "language_info": {
   "codemirror_mode": {
    "name": "ipython",
    "version": 3
   },
   "file_extension": ".py",
   "mimetype": "text/x-python",
   "name": "python",
   "nbconvert_exporter": "python",
   "pygments_lexer": "ipython3",
   "version": "3.7.2"
  }
 },
 "nbformat": 4,
 "nbformat_minor": 2
}
